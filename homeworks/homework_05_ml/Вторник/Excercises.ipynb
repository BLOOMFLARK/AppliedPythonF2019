{
 "cells": [
  {
   "cell_type": "code",
   "execution_count": 1,
   "metadata": {},
   "outputs": [],
   "source": [
    "import numpy as np\n",
    "import pandas as pd\n",
    "%matplotlib inline"
   ]
  },
  {
   "cell_type": "code",
   "execution_count": 2,
   "metadata": {},
   "outputs": [],
   "source": [
    "columns = ['age', 'workclass', 'fnlwgt', 'education','education-num','marital-status',\n",
    "       'occupation','relationship',\n",
    "       'race','sex','capital-gain',\n",
    "       'capital-loss','hours-per-week','native-country','Census Income']\n",
    "\n",
    "adult = pd.read_csv('adult.data', header=None, names=columns)"
   ]
  },
  {
   "cell_type": "markdown",
   "metadata": {},
   "source": [
    "1. How many males and females are there?"
   ]
  },
  {
   "cell_type": "code",
   "execution_count": 3,
   "metadata": {},
   "outputs": [
    {
     "data": {
      "text/plain": [
       " Male      21790\n",
       " Female    10771\n",
       "Name: sex, dtype: int64"
      ]
     },
     "execution_count": 3,
     "metadata": {},
     "output_type": "execute_result"
    }
   ],
   "source": [
    "adult['sex'].value_counts()"
   ]
  },
  {
   "cell_type": "markdown",
   "metadata": {},
   "source": [
    "2. What is the mean male age?"
   ]
  },
  {
   "cell_type": "code",
   "execution_count": 4,
   "metadata": {},
   "outputs": [
    {
     "data": {
      "text/plain": [
       "39.43354749885268"
      ]
     },
     "execution_count": 4,
     "metadata": {},
     "output_type": "execute_result"
    }
   ],
   "source": [
    "adult.groupby('sex')['age'].mean()[' Male']\n"
   ]
  },
  {
   "cell_type": "markdown",
   "metadata": {},
   "source": [
    "3. What is the proportion of the US citizens?"
   ]
  },
  {
   "cell_type": "code",
   "execution_count": 5,
   "metadata": {},
   "outputs": [
    {
     "name": "stdout",
     "output_type": "stream",
     "text": [
      "US citizens is 89.5857006848684 % of all citiziens in the table\n"
     ]
    }
   ],
   "source": [
    "us_perc = adult['native-country'].value_counts(normalize=True)[' United-States']\n",
    "print(\"US citizens is {} % of all citiziens in the table\".format(us_perc * 100))"
   ]
  },
  {
   "cell_type": "markdown",
   "metadata": {},
   "source": [
    "4. Plot the distribution of people’s education as a bar plot."
   ]
  },
  {
   "cell_type": "code",
   "execution_count": 6,
   "metadata": {},
   "outputs": [
    {
     "data": {
      "text/plain": [
       "<matplotlib.axes._subplots.AxesSubplot at 0x1203dd6a0>"
      ]
     },
     "execution_count": 6,
     "metadata": {},
     "output_type": "execute_result"
    },
    {
     "data": {
      "image/png": "[encoded data removed]",
      "text/plain": [
       "<Figure size 432x288 with 1 Axes>"
      ]
     },
     "metadata": {
      "needs_background": "light"
     },
     "output_type": "display_data"
    }
   ],
   "source": [
    "adult['education'].value_counts().plot.bar(title='people\\'s education')"
   ]
  },
  {
   "cell_type": "markdown",
   "metadata": {},
   "source": [
    "5. What is the mean and standard deviation of the ”final weight” for divorced people?\n"
   ]
  },
  {
   "cell_type": "code",
   "execution_count": 7,
   "metadata": {},
   "outputs": [
    {
     "data": {
      "text/plain": [
       "mean    185802.790457\n",
       "std     105646.789459\n",
       "Name:  Divorced, dtype: float64"
      ]
     },
     "execution_count": 7,
     "metadata": {},
     "output_type": "execute_result"
    }
   ],
   "source": [
    "# adult.groupby('marital-status')['fnlwgt'].mean()[' Divorced']\n",
    "adult.groupby('marital-status')['fnlwgt'].agg(['mean', 'std']).loc[' Divorced', :]"
   ]
  },
  {
   "cell_type": "markdown",
   "metadata": {},
   "source": [
    "6. Is it true that the people who receive over 50k are mostly highly educated?"
   ]
  },
  {
   "cell_type": "code",
   "execution_count": 8,
   "metadata": {},
   "outputs": [
    {
     "name": "stdout",
     "output_type": "stream",
     "text": [
      "Highly educated people are only 44.45861497258003% of all people recieving >50K\n",
      "False\n"
     ]
    }
   ],
   "source": [
    "rich_people = adult.groupby('Census Income')['education'].value_counts(normalize=True)[' >50K']\n",
    "highly_educated = rich_people[[' Masters', ' Doctorate', ' Bachelors']].sum() * 100\n",
    "print('Highly educated people are only {}% of all people recieving >50K'.format(highly_educated))\n",
    "print(highly_educated > 50)"
   ]
  },
  {
   "cell_type": "markdown",
   "metadata": {},
   "source": [
    "7. What is the maximum male and female age for each race?\n"
   ]
  },
  {
   "cell_type": "code",
   "execution_count": 9,
   "metadata": {},
   "outputs": [
    {
     "data": {
      "text/plain": [
       "race                 sex    \n",
       " Amer-Indian-Eskimo   Female    80\n",
       "                      Male      82\n",
       " Asian-Pac-Islander   Female    75\n",
       "                      Male      90\n",
       " Black                Female    90\n",
       "                      Male      90\n",
       " Other                Female    74\n",
       "                      Male      77\n",
       " White                Female    90\n",
       "                      Male      90\n",
       "Name: age, dtype: int64"
      ]
     },
     "execution_count": 9,
     "metadata": {},
     "output_type": "execute_result"
    }
   ],
   "source": [
    "adult.groupby(['race', 'sex'])['age'].max()"
   ]
  },
  {
   "cell_type": "markdown",
   "metadata": {},
   "source": [
    "8. The people from which countries work as farmers/fishers?"
   ]
  },
  {
   "cell_type": "code",
   "execution_count": 10,
   "metadata": {},
   "outputs": [
    {
     "name": "stdout",
     "output_type": "stream",
     "text": [
      "[' United-States' ' Cambodia' ' Poland' ' Guatemala' ' Mexico' ' England'\n",
      " ' Philippines' ' Italy' ' Puerto-Rico' ' Vietnam' ' Germany' ' Japan'\n",
      " ' Canada' ' Yugoslavia' ' Cuba' ' Portugal' ' El-Salvador' ' Hong'\n",
      " ' Ireland' ' France']\n"
     ]
    }
   ],
   "source": [
    "farming_fishing = adult[adult['occupation'] == ' Farming-fishing']\n",
    "countries = farming_fishing['native-country'].unique()\n",
    "print(countries[countries != ' ?'])"
   ]
  },
  {
   "cell_type": "markdown",
   "metadata": {},
   "source": [
    "9. Consider the ratio of the number of 1) male bachelors to male masters, and 2) female bachelors to female masters. Which one is higher?"
   ]
  },
  {
   "cell_type": "code",
   "execution_count": 11,
   "metadata": {},
   "outputs": [
    {
     "name": "stdout",
     "output_type": "stream",
     "text": [
      "male ratio: 3.14743049705139 \n",
      "female ratio: 3.0205223880597014\n"
     ]
    }
   ],
   "source": [
    "human_b_m = adult.groupby('sex')['education'].value_counts()\n",
    "male_ratio = human_b_m[' Male'][' Bachelors'] / human_b_m[' Male'][' Masters']\n",
    "female_ratio = human_b_m[' Female'][' Bachelors'] / human_b_m[' Female'][' Masters']\n",
    "print(\"male ratio: {} \\nfemale ratio: {}\".format(male_ratio, female_ratio))"
   ]
  },
  {
   "cell_type": "markdown",
   "metadata": {},
   "source": [
    "10. What is the largest number of hours a person works a week? How many people who work this number of hours are there? What is their income?\n"
   ]
  },
  {
   "cell_type": "code",
   "execution_count": 12,
   "metadata": {},
   "outputs": [
    {
     "name": "stdout",
     "output_type": "stream",
     "text": [
      "1)Largest number of hours person works per week: 99\n",
      "2)Number of people work this number of hours: 85\n",
      "3)60 of 85 get <=50K and 25 get >50K\n"
     ]
    },
    {
     "data": {
      "text/plain": [
       "<matplotlib.axes._subplots.AxesSubplot at 0x1202eb358>"
      ]
     },
     "execution_count": 12,
     "metadata": {},
     "output_type": "execute_result"
    },
    {
     "data": {
      "image/png": "[encoded data removed]",
      "text/plain": [
       "<Figure size 432x288 with 1 Axes>"
      ]
     },
     "metadata": {
      "needs_background": "light"
     },
     "output_type": "display_data"
    }
   ],
   "source": [
    "largest_hpw = adult['hours-per-week'].max()\n",
    "print(\"1)Largest number of hours person works per week: {}\".format(largest_hpw))\n",
    "\n",
    "adults_lhpw = adult[adult['hours-per-week'] == largest_hpw]\n",
    "\n",
    "num_of_people_lhpw = adults_lhpw['hours-per-week'].count()\n",
    "print(\"2)Number of people work this number of hours: {}\".format(num_of_people_lhpw))\n",
    "\n",
    "human_income_lhpw = adults_lhpw['Census Income'].value_counts()\n",
    "print(\"3){} of {} get <=50K and {} get >50K\".format(human_income_lhpw[0], num_of_people_lhpw, human_income_lhpw[1]))\n",
    "human_income_lhpw.plot.bar(title='Income of people with largest working hours per week')"
   ]
  },
  {
   "cell_type": "code",
   "execution_count": null,
   "metadata": {},
   "outputs": [],
   "source": []
  }
 ],
 "metadata": {
  "kernelspec": {
   "display_name": "Python 3",
   "language": "python",
   "name": "python3"
  },
  "language_info": {
   "codemirror_mode": {
    "name": "ipython",
    "version": 3
   },
   "file_extension": ".py",
   "mimetype": "text/x-python",
   "name": "python",
   "nbconvert_exporter": "python",
   "pygments_lexer": "ipython3",
   "version": "3.7.3"
  }
 },
 "nbformat": 4,
 "nbformat_minor": 2
}
