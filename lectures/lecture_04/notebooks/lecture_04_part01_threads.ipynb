{
 "cells": [
  {
   "cell_type": "code",
   "execution_count": 2,
   "metadata": {},
   "outputs": [],
   "source": [
    "import random\n",
    "import time\n",
    "import threading"
   ]
  },
  {
   "cell_type": "code",
   "execution_count": 3,
   "metadata": {},
   "outputs": [
    {
     "name": "stdout",
     "output_type": "stream",
     "text": [
      "I am alive 0\n",
      "I am alive 1\n",
      "I am alive 2\n",
      "I am alive 3\n",
      "I am alive 4\n"
     ]
    }
   ],
   "source": [
    "def sleep(inter_num, interval):\n",
    "    for i in range(inter_num):\n",
    "        print(\"I am alive {}\".format(i))\n",
    "        time.sleep(interval)\n",
    "t = threading.Thread(target=sleep, args=(5, 1))\n",
    "t.daemon = True\n",
    "t.start()"
   ]
  },
  {
   "cell_type": "code",
   "execution_count": 29,
   "metadata": {},
   "outputs": [
    {
     "name": "stdout",
     "output_type": "stream",
     "text": [
      "I am alive 0\n",
      "I am alive 1\n",
      "I am alive 2\n",
      "I am boss 0\n",
      "I am alive 3\n",
      "I am alive 4\n",
      "I am boss 1\n",
      "I am boss 2\n",
      "I am boss 3\n",
      "I am boss 4\n"
     ]
    }
   ],
   "source": [
    "# TODO: давайте починим output\n",
    "\n",
    "def sleep(inter_num , interval, lock):\n",
    "    for i in range(inter_num):\n",
    "        with lock:\n",
    "            print(\"I am alive {}\".format(i))\n",
    "        time.sleep(0)\n",
    "\n",
    "inter_num = 5\n",
    "interval = 1\n",
    "lock = threading.Lock()\n",
    "t = threading.Thread(target=sleep, args=(inter_num, interval, lock))\n",
    "t.start()\n",
    "\n",
    "for i in range(inter_num):\n",
    "    with lock:\n",
    "        print(\"I am boss {}\".format(i))\n",
    "    time.sleep(interval)"
   ]
  },
  {
   "cell_type": "code",
   "execution_count": 6,
   "metadata": {},
   "outputs": [
    {
     "name": "stdout",
     "output_type": "stream",
     "text": [
      "I am alive 0 my name IlyaI am boss 0\n",
      "\n",
      "I am alive 1 my name IlyaI am boss 1\n",
      "\n",
      "I am alive 2 my name IlyaI am boss 2\n",
      "\n",
      "I am alive 3 my name IlyaI am boss 3\n",
      "\n",
      "I am alive 4 my name IlyaI am boss 4\n",
      "\n"
     ]
    }
   ],
   "source": [
    "class Sleeper(threading.Thread):\n",
    "    def __init__(self, name, inter_num, interval):\n",
    "        super().__init__()\n",
    "        self.name = name\n",
    "        self.iter_num = inter_num\n",
    "        self.interval = interval\n",
    "    \n",
    "    def run(self):\n",
    "        for i in range(self.iter_num):\n",
    "            print(\"I am alive {} my name {}\".format(i, self.name))\n",
    "            time.sleep(self.interval)\n",
    "\n",
    "inter_num = 5\n",
    "interval = 1\n",
    "            \n",
    "t = Sleeper(\"Ilya\", inter_num, interval)\n",
    "t.start()\n",
    "\n",
    "for i in range(inter_num):\n",
    "    print(\"I am boss {}\".format(i))\n",
    "    time.sleep(interval)"
   ]
  },
  {
   "cell_type": "code",
   "execution_count": 35,
   "metadata": {},
   "outputs": [
    {
     "name": "stdout",
     "output_type": "stream",
     "text": [
      "My name is Vlad\n",
      "My name is Zarina\n",
      "My name is Misha\n",
      "My name is Ilya\n",
      "My name is vlad\n",
      "My name is anton\n"
     ]
    }
   ],
   "source": [
    "# TODO: Создадим 6 потоков по числу преподов Vlad, Zarina, Misha, Ilya, Vlad, Anton\n",
    "preps = [\"Vlad\",\"Zarina\", \"Misha\", 'Ilya', \"vlad\",\"anton\"]\n",
    "lock = threading.Lock()\n",
    "def greet(name):\n",
    "    with lock:\n",
    "        print(\"My name is {}\".format(name))\n",
    "for prep in preps:\n",
    "    t = threading.Thread(target=greet, args=(prep,))\n",
    "    t.start()\n",
    "    "
   ]
  },
  {
   "cell_type": "code",
   "execution_count": 34,
   "metadata": {},
   "outputs": [
    {
     "name": "stdout",
     "output_type": "stream",
     "text": [
      "I am alife 0 my name Ilya\n",
      "I am alife 1 my name Ilya\n",
      "I am alife 2 my name Ilya\n",
      "I am alife 3 my name Ilya\n",
      "I am alife 4 my name Ilya\n",
      "I am boss 0\n",
      "I am boss 1\n",
      "I am boss 2\n",
      "I am boss 3\n",
      "I am boss 4\n"
     ]
    }
   ],
   "source": [
    "# join\n",
    "class Sleeper(threading.Thread):\n",
    "    def __init__(self, name, inter_num, interval):\n",
    "        super().__init__()\n",
    "        self.name = name\n",
    "        self.iter_num = inter_num\n",
    "        self.interval = interval\n",
    "    \n",
    "    def run(self):\n",
    "        for i in range(self.iter_num):\n",
    "            print(\"I am alife {} my name {}\".format(i, self.name))\n",
    "            time.sleep(self.interval)\n",
    "\n",
    "inter_num = 5\n",
    "interval = 1\n",
    "            \n",
    "t = Sleeper(\"Ilya\", inter_num, interval)\n",
    "t.start()\n",
    "t.join()\n",
    "\n",
    "for i in range(inter_num):\n",
    "    print(\"I am boss {}\".format(i))\n",
    "    time.sleep(interval)"
   ]
  },
  {
   "cell_type": "code",
   "execution_count": null,
   "metadata": {},
   "outputs": [],
   "source": [
    "# TODO: Заставим преподов из задачки выше говорить последовательно"
   ]
  },
  {
   "cell_type": "code",
   "execution_count": 8,
   "metadata": {},
   "outputs": [],
   "source": [
    "class DollarsAccount:\n",
    "    def __init__(self, dollars_amount):\n",
    "        self._dollars = dollars_amount"
   ]
  },
  {
   "cell_type": "code",
   "execution_count": 11,
   "metadata": {},
   "outputs": [],
   "source": [
    "class Inflation(threading.Thread):\n",
    "    def __init__(self, name, account, amount, iter_num):\n",
    "        super().__init__()\n",
    "        self.name = name\n",
    "        self.account = account\n",
    "        self.amount = amount\n",
    "        self.iter_num = iter_num\n",
    "    \n",
    "    def run(self):\n",
    "        print(\"My name {} account id {}\".format(self.name, id(self.amount)))\n",
    "        for i in range(self.iter_num):\n",
    "            self.account._dollars -= self.amount\n",
    "            \n",
    "class DepositCap(threading.Thread):\n",
    "    def __init__(self, name, account, amount, iter_num):\n",
    "        super().__init__()\n",
    "        self.name = name\n",
    "        self.account = account\n",
    "        self.amount = amount\n",
    "        self.iter_num = iter_num\n",
    "    \n",
    "    def run(self):\n",
    "        print(\"My name {} account id {}\".format(self.name, id(self.amount)))\n",
    "        for i in range(self.iter_num):\n",
    "            self.account._dollars += self.amount"
   ]
  },
  {
   "cell_type": "code",
   "execution_count": 15,
   "metadata": {},
   "outputs": [
    {
     "name": "stdout",
     "output_type": "stream",
     "text": [
      "My name inflation account id 4394190240\n",
      "My name DepositCap account id 4394190240\n",
      "-7915\n"
     ]
    }
   ],
   "source": [
    "dac = DollarsAccount(50)\n",
    "inflation = Inflation(\"inflation\", dac, 1, 100000)      \n",
    "deposit = DepositCap(\"DepositCap\", dac, 1, 100000)\n",
    " \n",
    "inflation.start()\n",
    "deposit.start()\n",
    "inflation.join()\n",
    "deposit.join()\n",
    "print(dac._dollars)"
   ]
  },
  {
   "cell_type": "code",
   "execution_count": 16,
   "metadata": {},
   "outputs": [],
   "source": [
    "class Inflation(threading.Thread):\n",
    "    def __init__(self, name, account, amount, iter_num):\n",
    "        super().__init__()\n",
    "        self.name = name\n",
    "        self.account = account\n",
    "        self.amount = amount\n",
    "        self.iter_num = iter_num\n",
    "        self.lock = threading.Lock()\n",
    "    \n",
    "    def run(self):\n",
    "        print(\"My name {} account id {}\".format(self.name, id(self.amount)))\n",
    "        for i in range(self.iter_num):\n",
    "            self.lock.acquire()\n",
    "            self.account._dollars -= self.amount\n",
    "            self.lock.release()\n",
    "            \n",
    "class DepositCap(threading.Thread):\n",
    "    def __init__(self, name, account, amount, iter_num):\n",
    "        super().__init__()\n",
    "        self.name = name\n",
    "        self.account = account\n",
    "        self.amount = amount\n",
    "        self.iter_num = iter_num\n",
    "        self.lock = threading.Lock()\n",
    "    \n",
    "    def run(self):\n",
    "        print(\"My name {} account id {}\".format(self.name, id(self.amount)))\n",
    "        for i in range(self.iter_num):\n",
    "            self.lock.acquire()\n",
    "            self.account._dollars += self.amount\n",
    "            self.lock.release()"
   ]
  },
  {
   "cell_type": "code",
   "execution_count": 18,
   "metadata": {},
   "outputs": [
    {
     "name": "stdout",
     "output_type": "stream",
     "text": [
      "My name inflation account id 4394190368\n",
      "My name DepositCap account id 4394190368\n",
      "135285\n"
     ]
    }
   ],
   "source": [
    "dac = DollarsAccount(50)\n",
    "inflation = Inflation(\"inflation\", dac, 5, 100000)      \n",
    "deposit = DepositCap(\"DepositCap\", dac, 5, 100000)\n",
    "\n",
    "inflation.start()\n",
    "deposit.start()\n",
    "inflation.join()\n",
    "deposit.join()\n",
    "print(dac._dollars)\n",
    "\n",
    "#Почему не сработало?"
   ]
  },
  {
   "cell_type": "code",
   "execution_count": 20,
   "metadata": {},
   "outputs": [
    {
     "name": "stdout",
     "output_type": "stream",
     "text": [
      "My name inflation account id 4394190368\n",
      "My name DepositCap account id 4394190368\n",
      "50\n"
     ]
    }
   ],
   "source": [
    "class Inflation(threading.Thread):\n",
    "    def __init__(self, name, account, amount, iter_num, lock):\n",
    "        super().__init__()\n",
    "        self.name = name\n",
    "        self.account = account\n",
    "        self.amount = amount\n",
    "        self.iter_num = iter_num\n",
    "        self.lock = lock\n",
    "    \n",
    "    def run(self):\n",
    "        print(\"My name {} account id {}\".format(self.name, id(self.amount)))\n",
    "        for i in range(self.iter_num):\n",
    "            with self.lock:\n",
    "                self.account._dollars -= self.amount\n",
    "            \n",
    "class DepositCap(threading.Thread):\n",
    "    def __init__(self, name, account, amount, iter_num, lock):\n",
    "        super().__init__()\n",
    "        self.name = name\n",
    "        self.account = account\n",
    "        self.amount = amount\n",
    "        self.iter_num = iter_num\n",
    "        self.lock = lock\n",
    "    \n",
    "    def run(self):\n",
    "        print(\"My name {} account id {}\".format(self.name, id(self.amount)))\n",
    "        for i in range(self.iter_num):\n",
    "            with self.lock:\n",
    "                self.account._dollars += self.amount\n",
    "            \n",
    "dac = DollarsAccount(50)\n",
    "lock = threading.Lock()\n",
    "inflation = Inflation(\"inflation\", dac, 5, 100000, lock)      \n",
    "deposit = DepositCap(\"DepositCap\", dac, 5, 100000, lock)\n",
    "\n",
    "inflation.start()\n",
    "deposit.start()\n",
    "inflation.join()\n",
    "deposit.join()\n",
    "print(dac._dollars)"
   ]
  },
  {
   "cell_type": "code",
   "execution_count": 39,
   "metadata": {},
   "outputs": [
    {
     "name": "stdout",
     "output_type": "stream",
     "text": [
      "Thread1 acquiring lock a\n",
      "Thread2 acquiring lock b\n",
      "Thread1 acquiring lock b\n",
      "Thread1 releasing both locks\n",
      "Thread2 acquiring lock a\n",
      "Thread2 releasing both locks\n"
     ]
    }
   ],
   "source": [
    "import threading, time\n",
    "\n",
    "a = 5\n",
    "alock = threading.Lock()\n",
    "b = 5\n",
    "block = threading.Lock()\n",
    "\n",
    "def thread1calc():\n",
    "    global a\n",
    "    global b\n",
    "    print(\"Thread1 acquiring lock a\")\n",
    "    alock.acquire()\n",
    "    time.sleep(5)\n",
    "\n",
    "    print(\"Thread1 acquiring lock b\")\n",
    "    block.acquire()\n",
    "    time.sleep(5)\n",
    "    a += 5\n",
    "    b += 5\n",
    "\n",
    "    print(\"Thread1 releasing both locks\")\n",
    "    block.release()\n",
    "    alock.release()\n",
    "\n",
    "def thread2calc():\n",
    "    global a\n",
    "    global b\n",
    "    print (\"Thread2 acquiring lock b\")\n",
    "    alock.acquire()\n",
    "    time.sleep(5)\n",
    "\n",
    "    print(\"Thread2 acquiring lock a\")\n",
    "    block.acquire()\n",
    "    time.sleep(5)\n",
    "    a += 10\n",
    "    b += 10\n",
    "\n",
    "    print(\"Thread2 releasing both locks\")\n",
    "    block.release()\n",
    "    alock.release()\n",
    "\n",
    "t1 = threading.Thread(target = thread1calc)\n",
    "t1.start()\n",
    "\n",
    "t2 = threading.Thread(target = thread2calc)\n",
    "t2.start()\n",
    "\n",
    "t1.join()\n",
    "t2.join()"
   ]
  },
  {
   "cell_type": "code",
   "execution_count": null,
   "metadata": {},
   "outputs": [],
   "source": []
  }
 ],
 "metadata": {
  "anaconda-cloud": {},
  "kernelspec": {
   "display_name": "Python 3",
   "language": "python",
   "name": "python3"
  },
  "language_info": {
   "codemirror_mode": {
    "name": "ipython",
    "version": 3
   },
   "file_extension": ".py",
   "mimetype": "text/x-python",
   "name": "python",
   "nbconvert_exporter": "python",
   "pygments_lexer": "ipython3",
   "version": "3.7.3"
  }
 },
 "nbformat": 4,
 "nbformat_minor": 1
}
