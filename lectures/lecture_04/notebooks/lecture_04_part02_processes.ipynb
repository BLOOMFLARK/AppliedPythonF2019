{
 "cells": [
  {
   "cell_type": "markdown",
   "metadata": {},
   "source": [
    "# Процессы"
   ]
  },
  {
   "cell_type": "code",
   "execution_count": 7,
   "metadata": {},
   "outputs": [],
   "source": [
    "import random\n",
    "import os\n",
    "import time\n",
    "import threading\n",
    "import multiprocessing\n",
    "import os"
   ]
  },
  {
   "cell_type": "code",
   "execution_count": 8,
   "metadata": {},
   "outputs": [],
   "source": [
    "# Типы задач\n",
    "def cpu_bound_task(n):\n",
    "    def fib(n):\n",
    "        if n == 0:\n",
    "            return 0\n",
    "        elif n == 1:\n",
    "            return 1\n",
    "        return fib(n-1) + fib(n-2)\n",
    "\n",
    "    print(f'{n} -> {fib(n)}')\n",
    "\n",
    "\n",
    "def io_bound_task(ind):\n",
    "    print(f'start task {ind}')\n",
    "    time.sleep(3)\n",
    "    print(f'finish task {ind}\\n', end='')"
   ]
  },
  {
   "cell_type": "code",
   "execution_count": 5,
   "metadata": {},
   "outputs": [
    {
     "name": "stdout",
     "output_type": "stream",
     "text": [
      "36 -> 14930352\n",
      "35 -> 9227465\n",
      "34 -> 5702887\n",
      "33 -> 3524578\n",
      "32 -> 2178309\n",
      "31 -> 1346269\n",
      "30 -> 832040\n",
      "25 -> 75025\n",
      "20 -> 6765\n",
      "15 -> 610\n",
      "10 -> 55\n",
      "CPU times: user 22.7 s, sys: 90.3 ms, total: 22.8 s\n",
      "Wall time: 22.9 s\n"
     ]
    }
   ],
   "source": [
    "%%time\n",
    "\n",
    "for number in [36, 35, 34, 33, 32, 31, 30, 25, 20, 15, 10]:\n",
    "    cpu_bound_task(number)"
   ]
  },
  {
   "cell_type": "code",
   "execution_count": 9,
   "metadata": {},
   "outputs": [
    {
     "name": "stdout",
     "output_type": "stream",
     "text": [
      "20 -> 6765\n",
      "15 -> 61010 -> 55\n",
      "\n",
      "25 -> 75025\n",
      "30 -> 832040\n",
      "31 -> 1346269\n",
      "32 -> 2178309\n",
      "33 -> 3524578\n",
      "34 -> 5702887\n",
      "35 -> 9227465\n",
      "36 -> 14930352\n",
      "CPU times: user 23 s, sys: 433 ms, total: 23.4 s\n",
      "Wall time: 23.3 s\n"
     ]
    }
   ],
   "source": [
    "%%time\n",
    "\n",
    "# CPU bound задача на потоках\n",
    "tasks = []\n",
    "\n",
    "for number in [36, 35, 34, 33, 32, 31, 30, 25, 20, 15, 10]:\n",
    "    task = threading.Thread(target=cpu_bound_task, args=(number,))\n",
    "    tasks.append(task)\n",
    "    task.start()\n",
    "\n",
    "for task in tasks:\n",
    "    task.join()"
   ]
  },
  {
   "cell_type": "code",
   "execution_count": null,
   "metadata": {},
   "outputs": [],
   "source": [
    "%%time\n",
    "\n",
    "# CPU bound задача на процессах\n",
    "tasks = []\n",
    "\n",
    "for number in [36, 35, 34, 33, 32, 31, 30, 25, 20, 15, 10]:\n",
    "    task = multiprocessing.Process(target=cpu_bound_task, args=(number,))\n",
    "    tasks.append(task)\n",
    "    task.start()\n",
    "\n",
    "for task in tasks:\n",
    "    task.join()\n"
   ]
  },
  {
   "cell_type": "code",
   "execution_count": 10,
   "metadata": {},
   "outputs": [
    {
     "name": "stdout",
     "output_type": "stream",
     "text": [
      "start task 0\n",
      "finish task 0\n",
      "start task 1\n",
      "finish task 1\n",
      "start task 2\n",
      "finish task 2\n",
      "start task 3\n",
      "finish task 3\n",
      "start task 4\n",
      "finish task 4\n",
      "CPU times: user 10.3 ms, sys: 5.35 ms, total: 15.6 ms\n",
      "Wall time: 15 s\n"
     ]
    }
   ],
   "source": [
    "%%time\n",
    "\n",
    "for ind in range(5):\n",
    "    io_bound_task(ind)"
   ]
  },
  {
   "cell_type": "code",
   "execution_count": 11,
   "metadata": {},
   "outputs": [
    {
     "name": "stdout",
     "output_type": "stream",
     "text": [
      "start task 0\n",
      "start task 1\n",
      "start task 2start task 3\n",
      "\n",
      "start task 4\n",
      "finish task 0\n",
      "finish task 1\n",
      "finish task 2\n",
      "finish task 3\n",
      "finish task 4\n",
      "CPU times: user 5.59 ms, sys: 4.2 ms, total: 9.79 ms\n",
      "Wall time: 3.01 s\n"
     ]
    }
   ],
   "source": [
    "%%time\n",
    "\n",
    "# IO bound задача на потоках\n",
    "tasks = []\n",
    "\n",
    "for ind in range(5):\n",
    "    task = threading.Thread(target=io_bound_task, args=(ind,))\n",
    "    tasks.append(task)\n",
    "    task.start()\n",
    "\n",
    "for task in tasks:\n",
    "    task.join()"
   ]
  },
  {
   "cell_type": "code",
   "execution_count": 12,
   "metadata": {},
   "outputs": [
    {
     "name": "stdout",
     "output_type": "stream",
     "text": [
      "start task 0\n",
      "start task 1\n",
      "start task 2\n",
      "start task 3\n",
      "start task 4\n",
      "finish task 0\n",
      "finish task 1\n",
      "finish task 2\n",
      "finish task 3\n",
      "finish task 4\n",
      "CPU times: user 19.6 ms, sys: 27.1 ms, total: 46.7 ms\n",
      "Wall time: 3.06 s\n"
     ]
    }
   ],
   "source": [
    "%%time\n",
    "\n",
    "# IO bound задача на процессах\n",
    "tasks = []\n",
    "\n",
    "for ind in range(5):\n",
    "    task = multiprocessing.Process(target=io_bound_task, args=(ind,))\n",
    "    tasks.append(task)\n",
    "    task.start()\n",
    "\n",
    "for task in tasks:\n",
    "    task.join()"
   ]
  },
  {
   "cell_type": "code",
   "execution_count": 13,
   "metadata": {},
   "outputs": [
    {
     "name": "stdout",
     "output_type": "stream",
     "text": [
      "start task 0 with 17279\n",
      "start task 1 with 17280\n",
      "start task 2 with 17281\n",
      "start task 3 with 17282\n",
      "start task 4 with 17283\n",
      "start task 5 with 17284\n",
      "start task 6 with 17285\n",
      "start task 7 with 17286\n",
      "start task 8 with 17287\n",
      "start task 9 with 17288\n",
      "finish task 0\n",
      "finish task 1\n",
      "finish task 2\n",
      "finish task 3\n",
      "finish task 4\n",
      "finish task 5\n",
      "finish task 6\n",
      "finish task 7\n",
      "finish task 8\n",
      "finish task 9\n"
     ]
    }
   ],
   "source": [
    "# Получение идентификатора процесса\n",
    "def io_bound_task(ind):\n",
    "    print(f'start task {ind} with {os.getpid()}')\n",
    "    time.sleep(3)\n",
    "    print(f'finish task {ind}')\n",
    "    \n",
    "tasks = []\n",
    "\n",
    "for ind in range(10):\n",
    "    task = multiprocessing.Process(target=io_bound_task, args=(ind,))\n",
    "    tasks.append(task)\n",
    "    task.start()\n",
    "\n",
    "for task in tasks:\n",
    "    task.join()"
   ]
  },
  {
   "cell_type": "code",
   "execution_count": 14,
   "metadata": {},
   "outputs": [
    {
     "name": "stdout",
     "output_type": "stream",
     "text": [
      "[17295, 17296, 17297, 17296, 17295]\n"
     ]
    }
   ],
   "source": [
    "# Пулл процессов\n",
    "from multiprocessing import Pool\n",
    "\n",
    "\n",
    "def getpid(n):\n",
    "    time.sleep(2)\n",
    "    return os.getpid()\n",
    "\n",
    "with Pool(3) as p:\n",
    "    print(p.map(getpid, range(5)))\n",
    "    # "
   ]
  },
  {
   "cell_type": "code",
   "execution_count": 15,
   "metadata": {},
   "outputs": [
    {
     "name": "stdout",
     "output_type": "stream",
     "text": [
      "read 0\n",
      "read 0\n",
      "write 1\n",
      "read 0\n",
      "write 1\n",
      "read 0\n",
      "write 1\n",
      "read 0\n",
      "write 1\n",
      "write 1\n"
     ]
    }
   ],
   "source": [
    "# Шаринг ресурсов\n",
    "share_memory = {\n",
    "    'count': 0,\n",
    "}\n",
    "def share_memory_task():\n",
    "    print(f'read {share_memory[\"count\"]}')\n",
    "    share_memory['count'] += 1\n",
    "    print(f'write {share_memory[\"count\"]}')\n",
    "\n",
    "tasks = []\n",
    "\n",
    "for _ in range(5):\n",
    "    task = multiprocessing.Process(target=share_memory_task)\n",
    "    tasks.append(task)\n",
    "    task.start()\n",
    "    \n",
    "for task in tasks:\n",
    "    task.join()"
   ]
  },
  {
   "cell_type": "code",
   "execution_count": 17,
   "metadata": {},
   "outputs": [
    {
     "name": "stdout",
     "output_type": "stream",
     "text": [
      "read 0\n",
      "read 0\n",
      "write 1\n",
      "read 1\n",
      "write 1\n",
      "read 1\n",
      "write 2\n",
      "read 1\n",
      "write 2\n",
      "read 2\n",
      "write 2\n",
      "read 2\n",
      "write 3\n",
      "read 3\n",
      "write 3\n",
      "read 3\n",
      "write 4\n",
      "write 4\n",
      "read 4\n",
      "write 5\n",
      "COUNT: 5\n"
     ]
    }
   ],
   "source": [
    "# Шаринг ресурсов через файл\n",
    "filename = 'share_memory.tmp'\n",
    "\n",
    "with open(filename, 'w') as fd:\n",
    "    fd.write('0')\n",
    "\n",
    "def share_memory_task():\n",
    "    with open(filename) as fd:\n",
    "        count = int(fd.read())\n",
    "    print(f'read {count}')\n",
    "\n",
    "    with open(filename, 'w') as fd:\n",
    "        fd.write(str(count + 1))\n",
    "    print(f'write {count + 1}')\n",
    "\n",
    "\n",
    "tasks = []\n",
    "\n",
    "for _ in range(10):\n",
    "    task = multiprocessing.Process(target=share_memory_task)\n",
    "    tasks.append(task)\n",
    "    task.start()\n",
    "    \n",
    "for task in tasks:\n",
    "    task.join()\n",
    "\n",
    "with open(filename) as fd:\n",
    "    print(f'COUNT: {fd.read()}')"
   ]
  },
  {
   "cell_type": "code",
   "execution_count": 19,
   "metadata": {},
   "outputs": [
    {
     "name": "stderr",
     "output_type": "stream",
     "text": [
      "Process ForkPoolWorker-54:\n",
      "Process ForkPoolWorker-51:\n",
      "Process ForkPoolWorker-53:\n",
      "Process ForkPoolWorker-55:\n",
      "Process ForkPoolWorker-52:\n",
      "Traceback (most recent call last):\n",
      "Traceback (most recent call last):\n",
      "Traceback (most recent call last):\n",
      "Traceback (most recent call last):\n",
      "Traceback (most recent call last):\n",
      "  File \"/Users/mac/anaconda3/lib/python3.7/multiprocessing/process.py\", line 297, in _bootstrap\n",
      "    self.run()\n",
      "  File \"/Users/mac/anaconda3/lib/python3.7/multiprocessing/process.py\", line 297, in _bootstrap\n",
      "    self.run()\n",
      "  File \"/Users/mac/anaconda3/lib/python3.7/multiprocessing/process.py\", line 297, in _bootstrap\n",
      "    self.run()\n",
      "  File \"/Users/mac/anaconda3/lib/python3.7/multiprocessing/process.py\", line 297, in _bootstrap\n",
      "    self.run()\n",
      "  File \"/Users/mac/anaconda3/lib/python3.7/multiprocessing/process.py\", line 297, in _bootstrap\n",
      "    self.run()\n",
      "  File \"/Users/mac/anaconda3/lib/python3.7/multiprocessing/process.py\", line 99, in run\n",
      "    self._target(*self._args, **self._kwargs)\n",
      "  File \"/Users/mac/anaconda3/lib/python3.7/multiprocessing/process.py\", line 99, in run\n",
      "    self._target(*self._args, **self._kwargs)\n",
      "  File \"/Users/mac/anaconda3/lib/python3.7/multiprocessing/process.py\", line 99, in run\n",
      "    self._target(*self._args, **self._kwargs)\n",
      "  File \"/Users/mac/anaconda3/lib/python3.7/multiprocessing/process.py\", line 99, in run\n",
      "    self._target(*self._args, **self._kwargs)\n",
      "  File \"/Users/mac/anaconda3/lib/python3.7/multiprocessing/process.py\", line 99, in run\n",
      "    self._target(*self._args, **self._kwargs)\n",
      "  File \"/Users/mac/anaconda3/lib/python3.7/multiprocessing/pool.py\", line 110, in worker\n",
      "    task = get()\n",
      "  File \"/Users/mac/anaconda3/lib/python3.7/multiprocessing/pool.py\", line 110, in worker\n",
      "    task = get()\n",
      "  File \"/Users/mac/anaconda3/lib/python3.7/multiprocessing/pool.py\", line 110, in worker\n",
      "    task = get()\n",
      "  File \"/Users/mac/anaconda3/lib/python3.7/multiprocessing/pool.py\", line 110, in worker\n",
      "    task = get()\n",
      "  File \"/Users/mac/anaconda3/lib/python3.7/multiprocessing/pool.py\", line 121, in worker\n",
      "    result = (True, func(*args, **kwds))\n",
      "  File \"/Users/mac/anaconda3/lib/python3.7/multiprocessing/queues.py\", line 351, in get\n",
      "    with self._rlock:\n",
      "  File \"/Users/mac/anaconda3/lib/python3.7/multiprocessing/queues.py\", line 351, in get\n",
      "    with self._rlock:\n",
      "  File \"/Users/mac/anaconda3/lib/python3.7/multiprocessing/queues.py\", line 352, in get\n",
      "    res = self._reader.recv_bytes()\n",
      "  File \"/Users/mac/anaconda3/lib/python3.7/multiprocessing/synchronize.py\", line 95, in __enter__\n",
      "    return self._semlock.__enter__()\n",
      "  File \"/Users/mac/anaconda3/lib/python3.7/multiprocessing/synchronize.py\", line 95, in __enter__\n",
      "    return self._semlock.__enter__()\n",
      "  File \"<ipython-input-19-421893e5cdbe>\", line 28, in consumer_func\n",
      "    res = queue.get()\n",
      "  File \"/Users/mac/anaconda3/lib/python3.7/multiprocessing/queues.py\", line 351, in get\n",
      "    with self._rlock:\n",
      "  File \"/Users/mac/anaconda3/lib/python3.7/multiprocessing/connection.py\", line 216, in recv_bytes\n",
      "    buf = self._recv_bytes(maxlength)\n",
      "  File \"<string>\", line 2, in get\n",
      "  File \"/Users/mac/anaconda3/lib/python3.7/multiprocessing/synchronize.py\", line 95, in __enter__\n",
      "    return self._semlock.__enter__()\n"
     ]
    },
    {
     "ename": "KeyboardInterrupt",
     "evalue": "",
     "output_type": "error",
     "traceback": [
      "\u001b[0;31m---------------------------------------------------------------------------\u001b[0m",
      "\u001b[0;31mKeyboardInterrupt\u001b[0m                         Traceback (most recent call last)",
      "\u001b[0;32m<ipython-input-19-421893e5cdbe>\u001b[0m in \u001b[0;36m<module>\u001b[0;34m\u001b[0m\n\u001b[1;32m     52\u001b[0m \u001b[0;34m\u001b[0m\u001b[0m\n\u001b[1;32m     53\u001b[0m \u001b[0;34m\u001b[0m\u001b[0m\n\u001b[0;32m---> 54\u001b[0;31m \u001b[0mdo_work\u001b[0m\u001b[0;34m(\u001b[0m\u001b[0mto_process_list\u001b[0m\u001b[0;34m)\u001b[0m\u001b[0;34m\u001b[0m\u001b[0;34m\u001b[0m\u001b[0m\n\u001b[0m",
      "\u001b[0;32m<ipython-input-19-421893e5cdbe>\u001b[0m in \u001b[0;36mdo_work\u001b[0;34m(to_process_list)\u001b[0m\n\u001b[1;32m     37\u001b[0m     \u001b[0mpool\u001b[0m \u001b[0;34m=\u001b[0m \u001b[0mPool\u001b[0m\u001b[0;34m(\u001b[0m\u001b[0mPROCESSES_COUNT\u001b[0m\u001b[0;34m)\u001b[0m\u001b[0;34m\u001b[0m\u001b[0;34m\u001b[0m\u001b[0m\n\u001b[1;32m     38\u001b[0m     \u001b[0;31m# создает процесс, который будет выполнять consumer_func(queue)\u001b[0m\u001b[0;34m\u001b[0m\u001b[0;34m\u001b[0m\u001b[0;34m\u001b[0m\u001b[0m\n\u001b[0;32m---> 39\u001b[0;31m     \u001b[0mpool\u001b[0m\u001b[0;34m.\u001b[0m\u001b[0mapply\u001b[0m\u001b[0;34m(\u001b[0m\u001b[0mconsumer_func\u001b[0m\u001b[0;34m,\u001b[0m \u001b[0;34m(\u001b[0m\u001b[0mqueue\u001b[0m\u001b[0;34m,\u001b[0m \u001b[0;34m)\u001b[0m\u001b[0;34m)\u001b[0m\u001b[0;34m\u001b[0m\u001b[0;34m\u001b[0m\u001b[0m\n\u001b[0m\u001b[1;32m     40\u001b[0m \u001b[0;34m\u001b[0m\u001b[0m\n\u001b[1;32m     41\u001b[0m     \u001b[0mjobs\u001b[0m \u001b[0;34m=\u001b[0m \u001b[0;34m[\u001b[0m\u001b[0;34m]\u001b[0m\u001b[0;34m\u001b[0m\u001b[0;34m\u001b[0m\u001b[0m\n",
      "\u001b[0;32m~/anaconda3/lib/python3.7/multiprocessing/pool.py\u001b[0m in \u001b[0;36mapply\u001b[0;34m(self, func, args, kwds)\u001b[0m\n\u001b[1;32m    259\u001b[0m         \u001b[0mPool\u001b[0m \u001b[0mmust\u001b[0m \u001b[0mbe\u001b[0m \u001b[0mrunning\u001b[0m\u001b[0;34m.\u001b[0m\u001b[0;34m\u001b[0m\u001b[0;34m\u001b[0m\u001b[0m\n\u001b[1;32m    260\u001b[0m         '''\n\u001b[0;32m--> 261\u001b[0;31m         \u001b[0;32mreturn\u001b[0m \u001b[0mself\u001b[0m\u001b[0;34m.\u001b[0m\u001b[0mapply_async\u001b[0m\u001b[0;34m(\u001b[0m\u001b[0mfunc\u001b[0m\u001b[0;34m,\u001b[0m \u001b[0margs\u001b[0m\u001b[0;34m,\u001b[0m \u001b[0mkwds\u001b[0m\u001b[0;34m)\u001b[0m\u001b[0;34m.\u001b[0m\u001b[0mget\u001b[0m\u001b[0;34m(\u001b[0m\u001b[0;34m)\u001b[0m\u001b[0;34m\u001b[0m\u001b[0;34m\u001b[0m\u001b[0m\n\u001b[0m\u001b[1;32m    262\u001b[0m \u001b[0;34m\u001b[0m\u001b[0m\n\u001b[1;32m    263\u001b[0m     \u001b[0;32mdef\u001b[0m \u001b[0mmap\u001b[0m\u001b[0;34m(\u001b[0m\u001b[0mself\u001b[0m\u001b[0;34m,\u001b[0m \u001b[0mfunc\u001b[0m\u001b[0;34m,\u001b[0m \u001b[0miterable\u001b[0m\u001b[0;34m,\u001b[0m \u001b[0mchunksize\u001b[0m\u001b[0;34m=\u001b[0m\u001b[0;32mNone\u001b[0m\u001b[0;34m)\u001b[0m\u001b[0;34m:\u001b[0m\u001b[0;34m\u001b[0m\u001b[0;34m\u001b[0m\u001b[0m\n",
      "\u001b[0;32m~/anaconda3/lib/python3.7/multiprocessing/pool.py\u001b[0m in \u001b[0;36mget\u001b[0;34m(self, timeout)\u001b[0m\n\u001b[1;32m    649\u001b[0m \u001b[0;34m\u001b[0m\u001b[0m\n\u001b[1;32m    650\u001b[0m     \u001b[0;32mdef\u001b[0m \u001b[0mget\u001b[0m\u001b[0;34m(\u001b[0m\u001b[0mself\u001b[0m\u001b[0;34m,\u001b[0m \u001b[0mtimeout\u001b[0m\u001b[0;34m=\u001b[0m\u001b[0;32mNone\u001b[0m\u001b[0;34m)\u001b[0m\u001b[0;34m:\u001b[0m\u001b[0;34m\u001b[0m\u001b[0;34m\u001b[0m\u001b[0m\n\u001b[0;32m--> 651\u001b[0;31m         \u001b[0mself\u001b[0m\u001b[0;34m.\u001b[0m\u001b[0mwait\u001b[0m\u001b[0;34m(\u001b[0m\u001b[0mtimeout\u001b[0m\u001b[0;34m)\u001b[0m\u001b[0;34m\u001b[0m\u001b[0;34m\u001b[0m\u001b[0m\n\u001b[0m\u001b[1;32m    652\u001b[0m         \u001b[0;32mif\u001b[0m \u001b[0;32mnot\u001b[0m \u001b[0mself\u001b[0m\u001b[0;34m.\u001b[0m\u001b[0mready\u001b[0m\u001b[0;34m(\u001b[0m\u001b[0;34m)\u001b[0m\u001b[0;34m:\u001b[0m\u001b[0;34m\u001b[0m\u001b[0;34m\u001b[0m\u001b[0m\n\u001b[1;32m    653\u001b[0m             \u001b[0;32mraise\u001b[0m \u001b[0mTimeoutError\u001b[0m\u001b[0;34m\u001b[0m\u001b[0;34m\u001b[0m\u001b[0m\n",
      "\u001b[0;32m~/anaconda3/lib/python3.7/multiprocessing/pool.py\u001b[0m in \u001b[0;36mwait\u001b[0;34m(self, timeout)\u001b[0m\n\u001b[1;32m    646\u001b[0m \u001b[0;34m\u001b[0m\u001b[0m\n\u001b[1;32m    647\u001b[0m     \u001b[0;32mdef\u001b[0m \u001b[0mwait\u001b[0m\u001b[0;34m(\u001b[0m\u001b[0mself\u001b[0m\u001b[0;34m,\u001b[0m \u001b[0mtimeout\u001b[0m\u001b[0;34m=\u001b[0m\u001b[0;32mNone\u001b[0m\u001b[0;34m)\u001b[0m\u001b[0;34m:\u001b[0m\u001b[0;34m\u001b[0m\u001b[0;34m\u001b[0m\u001b[0m\n\u001b[0;32m--> 648\u001b[0;31m         \u001b[0mself\u001b[0m\u001b[0;34m.\u001b[0m\u001b[0m_event\u001b[0m\u001b[0;34m.\u001b[0m\u001b[0mwait\u001b[0m\u001b[0;34m(\u001b[0m\u001b[0mtimeout\u001b[0m\u001b[0;34m)\u001b[0m\u001b[0;34m\u001b[0m\u001b[0;34m\u001b[0m\u001b[0m\n\u001b[0m\u001b[1;32m    649\u001b[0m \u001b[0;34m\u001b[0m\u001b[0m\n\u001b[1;32m    650\u001b[0m     \u001b[0;32mdef\u001b[0m \u001b[0mget\u001b[0m\u001b[0;34m(\u001b[0m\u001b[0mself\u001b[0m\u001b[0;34m,\u001b[0m \u001b[0mtimeout\u001b[0m\u001b[0;34m=\u001b[0m\u001b[0;32mNone\u001b[0m\u001b[0;34m)\u001b[0m\u001b[0;34m:\u001b[0m\u001b[0;34m\u001b[0m\u001b[0;34m\u001b[0m\u001b[0m\n",
      "\u001b[0;32m~/anaconda3/lib/python3.7/threading.py\u001b[0m in \u001b[0;36mwait\u001b[0;34m(self, timeout)\u001b[0m\n\u001b[1;32m    550\u001b[0m             \u001b[0msignaled\u001b[0m \u001b[0;34m=\u001b[0m \u001b[0mself\u001b[0m\u001b[0;34m.\u001b[0m\u001b[0m_flag\u001b[0m\u001b[0;34m\u001b[0m\u001b[0;34m\u001b[0m\u001b[0m\n\u001b[1;32m    551\u001b[0m             \u001b[0;32mif\u001b[0m \u001b[0;32mnot\u001b[0m \u001b[0msignaled\u001b[0m\u001b[0;34m:\u001b[0m\u001b[0;34m\u001b[0m\u001b[0;34m\u001b[0m\u001b[0m\n\u001b[0;32m--> 552\u001b[0;31m                 \u001b[0msignaled\u001b[0m \u001b[0;34m=\u001b[0m \u001b[0mself\u001b[0m\u001b[0;34m.\u001b[0m\u001b[0m_cond\u001b[0m\u001b[0;34m.\u001b[0m\u001b[0mwait\u001b[0m\u001b[0;34m(\u001b[0m\u001b[0mtimeout\u001b[0m\u001b[0;34m)\u001b[0m\u001b[0;34m\u001b[0m\u001b[0;34m\u001b[0m\u001b[0m\n\u001b[0m\u001b[1;32m    553\u001b[0m             \u001b[0;32mreturn\u001b[0m \u001b[0msignaled\u001b[0m\u001b[0;34m\u001b[0m\u001b[0;34m\u001b[0m\u001b[0m\n\u001b[1;32m    554\u001b[0m \u001b[0;34m\u001b[0m\u001b[0m\n",
      "\u001b[0;32m~/anaconda3/lib/python3.7/threading.py\u001b[0m in \u001b[0;36mwait\u001b[0;34m(self, timeout)\u001b[0m\n\u001b[1;32m    294\u001b[0m         \u001b[0;32mtry\u001b[0m\u001b[0;34m:\u001b[0m    \u001b[0;31m# restore state no matter what (e.g., KeyboardInterrupt)\u001b[0m\u001b[0;34m\u001b[0m\u001b[0;34m\u001b[0m\u001b[0m\n\u001b[1;32m    295\u001b[0m             \u001b[0;32mif\u001b[0m \u001b[0mtimeout\u001b[0m \u001b[0;32mis\u001b[0m \u001b[0;32mNone\u001b[0m\u001b[0;34m:\u001b[0m\u001b[0;34m\u001b[0m\u001b[0;34m\u001b[0m\u001b[0m\n\u001b[0;32m--> 296\u001b[0;31m                 \u001b[0mwaiter\u001b[0m\u001b[0;34m.\u001b[0m\u001b[0macquire\u001b[0m\u001b[0;34m(\u001b[0m\u001b[0;34m)\u001b[0m\u001b[0;34m\u001b[0m\u001b[0;34m\u001b[0m\u001b[0m\n\u001b[0m\u001b[1;32m    297\u001b[0m                 \u001b[0mgotit\u001b[0m \u001b[0;34m=\u001b[0m \u001b[0;32mTrue\u001b[0m\u001b[0;34m\u001b[0m\u001b[0;34m\u001b[0m\u001b[0m\n\u001b[1;32m    298\u001b[0m             \u001b[0;32melse\u001b[0m\u001b[0;34m:\u001b[0m\u001b[0;34m\u001b[0m\u001b[0;34m\u001b[0m\u001b[0m\n",
      "\u001b[0;31mKeyboardInterrupt\u001b[0m: "
     ]
    },
    {
     "name": "stderr",
     "output_type": "stream",
     "text": [
      "  File \"/Users/mac/anaconda3/lib/python3.7/multiprocessing/connection.py\", line 407, in _recv_bytes\n",
      "    buf = self._recv(4)\n",
      "KeyboardInterrupt\n",
      "KeyboardInterrupt\n",
      "  File \"/Users/mac/anaconda3/lib/python3.7/multiprocessing/managers.py\", line 796, in _callmethod\n",
      "    kind, result = conn.recv()\n",
      "KeyboardInterrupt\n",
      "  File \"/Users/mac/anaconda3/lib/python3.7/multiprocessing/connection.py\", line 379, in _recv\n",
      "    chunk = read(handle, remaining)\n",
      "  File \"/Users/mac/anaconda3/lib/python3.7/multiprocessing/connection.py\", line 250, in recv\n",
      "    buf = self._recv_bytes()\n",
      "KeyboardInterrupt\n",
      "  File \"/Users/mac/anaconda3/lib/python3.7/multiprocessing/connection.py\", line 407, in _recv_bytes\n",
      "    buf = self._recv(4)\n",
      "  File \"/Users/mac/anaconda3/lib/python3.7/multiprocessing/connection.py\", line 379, in _recv\n",
      "    chunk = read(handle, remaining)\n",
      "KeyboardInterrupt\n"
     ]
    }
   ],
   "source": [
    "from multiprocessing import Manager, Queue\n",
    "\n",
    "\n",
    "PROCESSES_COUNT = 5\n",
    "to_process_list = [\n",
    "    [1, 2, 3], [4, 5, 6], [7, 8, 9],\n",
    "    [10, 11, 12], [13, 14, 15],\n",
    "    [16, 17, 18], [19, 20, 21],\n",
    "    [22, 23, 24], [25, 26, 27]\n",
    "]\n",
    "\n",
    "\n",
    "def func(x):\n",
    "    time.sleep(3)\n",
    "    return 1 << x\n",
    "\n",
    "\n",
    "def producer_func(to_process, queue):\n",
    "    for elem in to_process:\n",
    "        res = func(elem)\n",
    "        queue.put(res)\n",
    "        print(f\"Hey, I've just put {res} to queue!\")\n",
    "\n",
    "\n",
    "def consumer_func(queue):\n",
    "    while True:\n",
    "        # .get() - блокирующий(поток остановится и будет ждать пока не сможет взять из queue)\n",
    "        res = queue.get()\n",
    "        if res == 'kill':\n",
    "            break\n",
    "        print(f\"Wow, I found {res} in queue!\")\n",
    "\n",
    "\n",
    "def do_work(to_process_list):\n",
    "    manager = Manager()\n",
    "    queue = manager.Queue()\n",
    "    pool = Pool(PROCESSES_COUNT)\n",
    "    # создает процесс, который будет выполнять consumer_func(queue)\n",
    "    pool.apply(consumer_func, (queue, ))\n",
    "\n",
    "    jobs = []\n",
    "    for to_process in to_process_list:\n",
    "        job = pool.apply(producer_func, (to_process, queue))\n",
    "        jobs.append(job)\n",
    "\n",
    "    for job in jobs:\n",
    "        job.get()\n",
    "\n",
    "    queue.put('kill')\n",
    "    pool.close()\n",
    "    pool.join()\n",
    "    \n",
    "\n",
    "do_work(to_process_list)"
   ]
  },
  {
   "cell_type": "code",
   "execution_count": null,
   "metadata": {},
   "outputs": [],
   "source": []
  }
 ],
 "metadata": {
  "kernelspec": {
   "display_name": "Python 3",
   "language": "python",
   "name": "python3"
  },
  "language_info": {
   "codemirror_mode": {
    "name": "ipython",
    "version": 3
   },
   "file_extension": ".py",
   "mimetype": "text/x-python",
   "name": "python",
   "nbconvert_exporter": "python",
   "pygments_lexer": "ipython3",
   "version": "3.7.3"
  }
 },
 "nbformat": 4,
 "nbformat_minor": 2
}
